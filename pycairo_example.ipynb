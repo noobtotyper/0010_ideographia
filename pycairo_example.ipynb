{
 "cells": [
  {
   "cell_type": "code",
   "execution_count": 22,
   "id": "6f2fdc83",
   "metadata": {},
   "outputs": [
    {
     "name": "stdout",
     "output_type": "stream",
     "text": [
      "X-zrZv_IbzjZUnhsbWlsecLbwjndTpG0ZynXOif7V-\n"
     ]
    },
    {
     "data": {
      "image/png": "[encoded data removed]",
      "text/plain": [
       "<IPython.core.display.Image object>"
      ]
     },
     "metadata": {
      "image/png": {
       "width": 128
      }
     },
     "output_type": "display_data"
    },
    {
     "name": "stdout",
     "output_type": "stream",
     "text": [
      "a4ayc_80_OGda4BO_1o_V0etpOqiLx1JwB5S3beHW0\n"
     ]
    },
    {
     "data": {
      "image/png": "[encoded data removed]",
      "text/plain": [
       "<IPython.core.display.Image object>"
      ]
     },
     "metadata": {
      "image/png": {
       "width": 128
      }
     },
     "output_type": "display_data"
    }
   ],
   "source": [
    "import hashlib\n",
    "import base64\n",
    "\n",
    "import cairo\n",
    "from IPython.display import Image, display\n",
    "from math import pi\n",
    "from io import BytesIO\n",
    "\n",
    "def disp_and_save(draw_func,folder=\"Icons/\",filename='output',res=128):\n",
    "    width=res\n",
    "    height=res\n",
    "    \n",
    "    # Create an ImageSurface for PNG display\n",
    "    surface_png = cairo.ImageSurface(cairo.FORMAT_ARGB32, width, height)\n",
    "    ctx_png = cairo.Context(surface_png)\n",
    "    draw_func(ctx_png, width, height)\n",
    "    \n",
    "    # Create an SVGSurface to save the image as SVG\n",
    "    surface_svg = cairo.SVGSurface(folder+filename+\".svg\", width, height)\n",
    "    ctx_svg = cairo.Context(surface_svg)\n",
    "    draw_func(ctx_svg, width, height)\n",
    "    \n",
    "    surface_png.write_to_png(folder+filename+\".png\")\n",
    "    \n",
    "    with BytesIO() as fileobj:\n",
    "        surface_png.write_to_png(fileobj)\n",
    "        display(Image(fileobj.getvalue(), width=width))\n",
    "    \n",
    "    surface_svg.finish()\n",
    "\n",
    "def draw(cr, width, height):\n",
    "    cr.scale(width, height)\n",
    "    cr.set_line_width(0.04)\n",
    "\n",
    "    cr.arc(0.5, 0.5, 0.3, 0, 2 * pi)\n",
    "    cr.clip()\n",
    "\n",
    "    cr.rectangle(0, 0, 1, 1)\n",
    "    cr.fill()\n",
    "    cr.set_source_rgb(0, 1, 0)\n",
    "    cr.move_to(0, 0)\n",
    "    cr.line_to(1, 1)\n",
    "    cr.move_to(1, 0)\n",
    "    cr.line_to(0, 1)\n",
    "    cr.stroke()\n",
    "\n",
    "def sentence_to_hash(st):\n",
    "    hash_object = hashlib.sha256(st.encode(\"utf-8\"))\n",
    "    hash_bytes = hash_object.digest()\n",
    "\n",
    "    b64_encoded = base64.urlsafe_b64encode(hash_bytes)\n",
    "    b64hex_str = b64_encoded.decode(\"utf-8\")\n",
    "\n",
    "    return b64hex_str\n",
    "\n",
    "\n",
    "for i in range(2):\n",
    "    inp=str(i)\n",
    "    b64str=sentence_to_hash(inp)[:42]\n",
    "    print(b64str)\n",
    "    disp_and_save(draw, filename=b64str)\n"
   ]
  }
 ],
 "metadata": {
  "kernelspec": {
   "display_name": "default",
   "language": "python",
   "name": "python3"
  },
  "language_info": {
   "codemirror_mode": {
    "name": "ipython",
    "version": 3
   },
   "file_extension": ".py",
   "mimetype": "text/x-python",
   "name": "python",
   "nbconvert_exporter": "python",
   "pygments_lexer": "ipython3",
   "version": "3.12.3"
  }
 },
 "nbformat": 4,
 "nbformat_minor": 5
}
